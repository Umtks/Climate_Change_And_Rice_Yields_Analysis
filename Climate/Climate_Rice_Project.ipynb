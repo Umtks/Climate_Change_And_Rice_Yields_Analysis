{
 "cells": [
  {
   "cell_type": "code",
   "execution_count": 49,
   "id": "d1ab38c3",
   "metadata": {},
   "outputs": [],
   "source": [
    "import numpy as np\n",
    "import pandas as pd \n",
    "import seaborn as sns\n",
    "import matplotlib.pyplot as plt\n",
    "from collections import Counter\n",
    "import tensorflow as tf"
   ]
  },
  {
   "cell_type": "markdown",
   "id": "cba4f24f",
   "metadata": {},
   "source": [
    "## Data Processing "
   ]
  },
  {
   "cell_type": "code",
   "execution_count": 50,
   "id": "657aaaaa",
   "metadata": {},
   "outputs": [],
   "source": [
    "data_global_temp = pd.read_csv(\"annual_csv.csv\")"
   ]
  },
  {
   "cell_type": "code",
   "execution_count": 51,
   "id": "e2981c89",
   "metadata": {},
   "outputs": [
    {
     "name": "stdout",
     "output_type": "stream",
     "text": [
      "      Source  Year    Mean\n",
      "0       GCAG  2016  0.9363\n",
      "1    GISTEMP  2016  0.9900\n",
      "2       GCAG  2015  0.8998\n",
      "3    GISTEMP  2015  0.8700\n",
      "4       GCAG  2014  0.7408\n",
      "..       ...   ...     ...\n",
      "269  GISTEMP  1882 -0.1000\n",
      "270     GCAG  1881 -0.0628\n",
      "271  GISTEMP  1881 -0.1200\n",
      "272     GCAG  1880 -0.1148\n",
      "273  GISTEMP  1880 -0.2000\n",
      "\n",
      "[274 rows x 3 columns]\n"
     ]
    }
   ],
   "source": [
    "print(data_global_temp)"
   ]
  },
  {
   "cell_type": "code",
   "execution_count": 52,
   "id": "9c1e7d3d",
   "metadata": {},
   "outputs": [],
   "source": [
    "data_global_temp = data_global_temp[data_global_temp['Source'] == 'GISTEMP'].reset_index()[[\"Source\", \"Year\", \"Mean\"]]"
   ]
  },
  {
   "cell_type": "code",
   "execution_count": 53,
   "id": "3b127a71",
   "metadata": {},
   "outputs": [
    {
     "name": "stdout",
     "output_type": "stream",
     "text": [
      "      Source  Year  Mean\n",
      "0    GISTEMP  2016  0.99\n",
      "1    GISTEMP  2015  0.87\n",
      "2    GISTEMP  2014  0.74\n",
      "3    GISTEMP  2013  0.65\n",
      "4    GISTEMP  2012  0.63\n",
      "..       ...   ...   ...\n",
      "132  GISTEMP  1884 -0.28\n",
      "133  GISTEMP  1883 -0.21\n",
      "134  GISTEMP  1882 -0.10\n",
      "135  GISTEMP  1881 -0.12\n",
      "136  GISTEMP  1880 -0.20\n",
      "\n",
      "[137 rows x 3 columns]\n"
     ]
    }
   ],
   "source": [
    "print(data_global_temp)"
   ]
  },
  {
   "cell_type": "markdown",
   "id": "7251e543",
   "metadata": {},
   "source": [
    "## Average Mean Tempeture Plot "
   ]
  },
  {
   "cell_type": "code",
   "execution_count": 54,
   "id": "54828fec",
   "metadata": {},
   "outputs": [
    {
     "data": {
      "text/plain": [
       "Text(0.5, 1.0, 'Average Mean Temp')"
      ]
     },
     "execution_count": 54,
     "metadata": {},
     "output_type": "execute_result"
    },
    {
     "data": {
      "image/png": "[encoded data removed]",
      "text/plain": [
       "<Figure size 432x288 with 1 Axes>"
      ]
     },
     "metadata": {},
     "output_type": "display_data"
    }
   ],
   "source": [
    "sns.set()\n",
    "sns.lineplot(x = data_global_temp[\"Year\"], y = data_global_temp[\"Mean\"]).set_title(\"Average Mean Temp\")"
   ]
  },
  {
   "cell_type": "markdown",
   "id": "7e1a35a5",
   "metadata": {},
   "source": [
    "## Data For Rice Yields Per Year By Country"
   ]
  },
  {
   "cell_type": "code",
   "execution_count": 55,
   "id": "68bab90c",
   "metadata": {},
   "outputs": [],
   "source": [
    "data_rice = pd.read_csv(\"rice-yields.csv\",keep_default_na=False)"
   ]
  },
  {
   "cell_type": "code",
   "execution_count": 56,
   "id": "9ceb90a7",
   "metadata": {},
   "outputs": [
    {
     "data": {
      "text/html": [
       "<div>\n",
       "<style scoped>\n",
       "    .dataframe tbody tr th:only-of-type {\n",
       "        vertical-align: middle;\n",
       "    }\n",
       "\n",
       "    .dataframe tbody tr th {\n",
       "        vertical-align: top;\n",
       "    }\n",
       "\n",
       "    .dataframe thead th {\n",
       "        text-align: right;\n",
       "    }\n",
       "</style>\n",
       "<table border=\"1\" class=\"dataframe\">\n",
       "  <thead>\n",
       "    <tr style=\"text-align: right;\">\n",
       "      <th></th>\n",
       "      <th>Entity</th>\n",
       "      <th>Code</th>\n",
       "      <th>Year</th>\n",
       "      <th>Yield</th>\n",
       "    </tr>\n",
       "  </thead>\n",
       "  <tbody>\n",
       "    <tr>\n",
       "      <th>0</th>\n",
       "      <td>Afghanistan</td>\n",
       "      <td>AFG</td>\n",
       "      <td>1961</td>\n",
       "      <td>1.0831</td>\n",
       "    </tr>\n",
       "    <tr>\n",
       "      <th>1</th>\n",
       "      <td>Afghanistan</td>\n",
       "      <td>AFG</td>\n",
       "      <td>1962</td>\n",
       "      <td>1.0480</td>\n",
       "    </tr>\n",
       "    <tr>\n",
       "      <th>2</th>\n",
       "      <td>Afghanistan</td>\n",
       "      <td>AFG</td>\n",
       "      <td>1963</td>\n",
       "      <td>0.9548</td>\n",
       "    </tr>\n",
       "    <tr>\n",
       "      <th>3</th>\n",
       "      <td>Afghanistan</td>\n",
       "      <td>AFG</td>\n",
       "      <td>1964</td>\n",
       "      <td>1.0461</td>\n",
       "    </tr>\n",
       "    <tr>\n",
       "      <th>4</th>\n",
       "      <td>Afghanistan</td>\n",
       "      <td>AFG</td>\n",
       "      <td>1965</td>\n",
       "      <td>1.0621</td>\n",
       "    </tr>\n",
       "  </tbody>\n",
       "</table>\n",
       "</div>"
      ],
      "text/plain": [
       "        Entity Code  Year   Yield\n",
       "0  Afghanistan  AFG  1961  1.0831\n",
       "1  Afghanistan  AFG  1962  1.0480\n",
       "2  Afghanistan  AFG  1963  0.9548\n",
       "3  Afghanistan  AFG  1964  1.0461\n",
       "4  Afghanistan  AFG  1965  1.0621"
      ]
     },
     "execution_count": 56,
     "metadata": {},
     "output_type": "execute_result"
    }
   ],
   "source": [
    "data_rice.head()"
   ]
  },
  {
   "cell_type": "code",
   "execution_count": 57,
   "id": "5e8bc82d",
   "metadata": {},
   "outputs": [
    {
     "name": "stdout",
     "output_type": "stream",
     "text": [
      "{'Oceania', 'Kuwait', 'Northern America', 'Cape Verde', 'Nigeria', 'Bolivia', 'El Salvador', 'USSR', 'European Union', 'Haiti', 'Chad', 'Morocco', 'Hong Kong', 'Nepal', 'Norway', 'South America', 'Low Income Food Deficit Countries', 'AsiaCentral', 'Africa', 'Iceland', 'Democratic Republic of Congo', 'Kyrgyzstan', 'Caribbean', 'Iran', 'India', 'Mongolia', 'Taiwan', 'Colombia', 'EuropeWestern', 'Eastern Asia', 'Niger', 'Djibouti', 'Ireland', 'Papua New Guinea', 'Oman', 'World', 'Serbia', 'Belize', 'Angola', 'Sudan (former)', 'Timor', 'New Zealand', 'Turkey', 'Australia', 'Honduras', 'Benin', 'Australia & New Zealand', 'Serbia and Montenegro', 'Syria', 'South Africa', 'Togo', 'Palestine', 'Mali', 'Guam', 'Switzerland', 'Montserrat', 'Ethiopia PDR', 'Turkmenistan', 'Czechia', 'Malawi', 'Laos', 'Brazil', 'Namibia', 'Spain', 'Albania', 'Poland', 'Moldova', 'Kenya', 'Lithuania', 'Belarus', 'Central African Republic', 'Ecuador', 'Pakistan', 'Cyprus', 'Uzbekistan', 'United States', 'Dominican Republic', 'Hungary', 'Argentina', 'Congo', 'Montenegro', 'Somalia', 'Western Asia', 'Puerto Rico', 'Zambia', 'Mexico', 'Brunei', 'Finland', 'Bulgaria', 'French Guiana', 'Small island developing States', 'Myanmar', 'Botswana', 'Solomon Islands', 'Vietnam', 'Ukraine', 'Americas', 'South Korea', 'Belgium-Luxembourg', 'Germany', 'Uganda', 'Cambodia', 'Saint Lucia', 'New Caledonia', 'Guinea', 'Comoros', 'Sudan', 'Bangladesh', 'Italy', 'Zimbabwe', 'Senegal', 'Uruguay', 'Greece', 'Guadeloupe', 'France', 'Europe', 'Guatemala', 'North Macedonia', 'Tunisia', 'Eastern Europe', 'Bahamas', 'Gambia', 'Rwanda', 'Eritrea', 'Kazakhstan', 'Costa Rica', 'Pacific Islands Trust Territory', 'Afghanistan', 'Azerbaijan', 'Croatia', 'Japan', 'Thailand', 'Southern Africa', 'Western Africa', 'Reunion', 'Net Food Importing Developing Countries', 'Armenia', 'Liberia', 'Sri Lanka', 'Venezuela', 'Tanzania', 'Western Sahara', 'Cuba', 'Latvia', 'Austria', 'Ghana', 'Bosnia and Herzegovina', 'Eswatini', 'Fiji', 'Gabon', 'Iraq', 'Mozambique', 'Land Locked Developing Countries', 'Maldives', 'Slovenia', 'Egypt', 'Algeria', 'Micronesia (region)', 'Lesotho', 'United Kingdom', 'Ethiopia', 'Netherlands', 'Northern Europe', 'Least Developed Countries', 'Denmark', 'Saudi Arabia', 'Jordan', 'Israel', 'Middle Africa', 'Saint Vincent and the Grenadines', 'Barbados', 'Vanuatu', 'Russia', 'Yugoslavia', \"Cote d'Ivoire\", 'Portugal', 'Burkina Faso', 'South Eastern Asia', 'Mauritania', 'Southern Europe', 'Asia', 'Sao Tome and Principe', 'Bhutan', 'United Arab Emirates', 'Burundi', 'Suriname', 'Antigua and Barbuda', 'Melanesia', 'Canada', 'Southern Asia', 'Slovakia', 'Central America', 'South Sudan', 'Guinea-Bissau', 'Tajikistan', 'Luxembourg', 'Micronesia (country)', 'Paraguay', 'Belgium', 'Indonesia', 'Nicaragua', 'Lebanon', 'Madagascar', 'Mauritius', 'Philippines', 'Georgia', 'China', 'Northern Africa', 'Malaysia', 'Sierra Leone', 'Jamaica', 'Guyana', 'Malta', 'Qatar', 'Chile', 'Libya', 'Panama', 'Yemen', 'Sweden', 'North Korea', 'Romania', 'Czechoslovakia', 'Cameroon', 'Peru', 'Dominica', 'Trinidad and Tobago', 'Estonia', 'Eastern Africa', 'Grenada'}\n",
      "NUMBER OF REGIONS:  229\n"
     ]
    }
   ],
   "source": [
    "print(set(data_rice[\"Entity\"].values))\n",
    "print(\"NUMBER OF REGIONS: \", len(set(data_rice[\"Entity\"].values)))"
   ]
  },
  {
   "cell_type": "markdown",
   "id": "e1ed546b",
   "metadata": {},
   "source": [
    "## Rice Yields For Selected Country"
   ]
  },
  {
   "cell_type": "code",
   "execution_count": 58,
   "id": "06ef8694",
   "metadata": {
    "scrolled": true
   },
   "outputs": [
    {
     "name": "stdout",
     "output_type": "stream",
     "text": [
      "    Entity Code  Year   Yield\n",
      "0  Nigeria  NGA  1961  0.7388\n",
      "1  Nigeria  NGA  1962  0.7747\n",
      "2  Nigeria  NGA  1963  0.7577\n",
      "3  Nigeria  NGA  1964  0.7113\n",
      "4  Nigeria  NGA  1965  0.6808\n"
     ]
    }
   ],
   "source": [
    "data_nigeria = data_rice[data_rice[\"Entity\"] == \"Nigeria\"].reset_index()[[\"Entity\", \"Code\", \"Year\",\"Yield\"]]\n",
    "print(data_nigeria.head())"
   ]
  },
  {
   "cell_type": "code",
   "execution_count": 59,
   "id": "0951af35",
   "metadata": {},
   "outputs": [
    {
     "data": {
      "text/plain": [
       "Text(0.5, 1.0, 'Yield per Year')"
      ]
     },
     "execution_count": 59,
     "metadata": {},
     "output_type": "execute_result"
    },
    {
     "data": {
      "image/png": "[encoded data removed]",
      "text/plain": [
       "<Figure size 432x288 with 1 Axes>"
      ]
     },
     "metadata": {},
     "output_type": "display_data"
    }
   ],
   "source": [
    "sns.lineplot(x = data_nigeria[\"Year\"], y = data_nigeria[\"Yield\"]).set_title(\"Yield per Year\")"
   ]
  },
  {
   "cell_type": "markdown",
   "id": "80225460",
   "metadata": {},
   "source": [
    "# Yield Per Year And Tempeture Per Year Plot"
   ]
  },
  {
   "cell_type": "code",
   "execution_count": 60,
   "id": "a06fd6e1",
   "metadata": {
    "scrolled": true
   },
   "outputs": [
    {
     "data": {
      "text/plain": [
       "Text(0.5, 1.0, 'Yield Per Year and Global Temp')"
      ]
     },
     "execution_count": 60,
     "metadata": {},
     "output_type": "execute_result"
    },
    {
     "data": {
      "image/png": "[encoded data removed]",
      "text/plain": [
       "<Figure size 432x288 with 1 Axes>"
      ]
     },
     "metadata": {},
     "output_type": "display_data"
    }
   ],
   "source": [
    "sns.set()\n",
    "sns.lineplot(x = data_global_temp[\"Year\"],y = data_global_temp[\"Mean\"])\n",
    "sns.lineplot(x = data_nigeria[\"Year\"], y = data_nigeria[\"Yield\"]).set_title(\"Yield Per Year and Global Temp\")"
   ]
  },
  {
   "cell_type": "markdown",
   "id": "fd277755",
   "metadata": {},
   "source": [
    "# Preprocess Data For ML"
   ]
  },
  {
   "cell_type": "code",
   "execution_count": 61,
   "id": "545a5bcd",
   "metadata": {},
   "outputs": [],
   "source": [
    "data_global_temp_new = data_global_temp.iloc[0:56,1:]"
   ]
  },
  {
   "cell_type": "code",
   "execution_count": 62,
   "id": "08b53494",
   "metadata": {},
   "outputs": [
    {
     "data": {
      "text/html": [
       "<div>\n",
       "<style scoped>\n",
       "    .dataframe tbody tr th:only-of-type {\n",
       "        vertical-align: middle;\n",
       "    }\n",
       "\n",
       "    .dataframe tbody tr th {\n",
       "        vertical-align: top;\n",
       "    }\n",
       "\n",
       "    .dataframe thead th {\n",
       "        text-align: right;\n",
       "    }\n",
       "</style>\n",
       "<table border=\"1\" class=\"dataframe\">\n",
       "  <thead>\n",
       "    <tr style=\"text-align: right;\">\n",
       "      <th></th>\n",
       "      <th>Year</th>\n",
       "      <th>Mean</th>\n",
       "    </tr>\n",
       "  </thead>\n",
       "  <tbody>\n",
       "    <tr>\n",
       "      <th>0</th>\n",
       "      <td>2016</td>\n",
       "      <td>0.99</td>\n",
       "    </tr>\n",
       "    <tr>\n",
       "      <th>1</th>\n",
       "      <td>2015</td>\n",
       "      <td>0.87</td>\n",
       "    </tr>\n",
       "    <tr>\n",
       "      <th>2</th>\n",
       "      <td>2014</td>\n",
       "      <td>0.74</td>\n",
       "    </tr>\n",
       "    <tr>\n",
       "      <th>3</th>\n",
       "      <td>2013</td>\n",
       "      <td>0.65</td>\n",
       "    </tr>\n",
       "    <tr>\n",
       "      <th>4</th>\n",
       "      <td>2012</td>\n",
       "      <td>0.63</td>\n",
       "    </tr>\n",
       "    <tr>\n",
       "      <th>5</th>\n",
       "      <td>2011</td>\n",
       "      <td>0.60</td>\n",
       "    </tr>\n",
       "    <tr>\n",
       "      <th>6</th>\n",
       "      <td>2010</td>\n",
       "      <td>0.71</td>\n",
       "    </tr>\n",
       "    <tr>\n",
       "      <th>7</th>\n",
       "      <td>2009</td>\n",
       "      <td>0.64</td>\n",
       "    </tr>\n",
       "    <tr>\n",
       "      <th>8</th>\n",
       "      <td>2008</td>\n",
       "      <td>0.54</td>\n",
       "    </tr>\n",
       "    <tr>\n",
       "      <th>9</th>\n",
       "      <td>2007</td>\n",
       "      <td>0.66</td>\n",
       "    </tr>\n",
       "    <tr>\n",
       "      <th>10</th>\n",
       "      <td>2006</td>\n",
       "      <td>0.63</td>\n",
       "    </tr>\n",
       "    <tr>\n",
       "      <th>11</th>\n",
       "      <td>2005</td>\n",
       "      <td>0.69</td>\n",
       "    </tr>\n",
       "    <tr>\n",
       "      <th>12</th>\n",
       "      <td>2004</td>\n",
       "      <td>0.55</td>\n",
       "    </tr>\n",
       "    <tr>\n",
       "      <th>13</th>\n",
       "      <td>2003</td>\n",
       "      <td>0.62</td>\n",
       "    </tr>\n",
       "    <tr>\n",
       "      <th>14</th>\n",
       "      <td>2002</td>\n",
       "      <td>0.63</td>\n",
       "    </tr>\n",
       "    <tr>\n",
       "      <th>15</th>\n",
       "      <td>2001</td>\n",
       "      <td>0.55</td>\n",
       "    </tr>\n",
       "    <tr>\n",
       "      <th>16</th>\n",
       "      <td>2000</td>\n",
       "      <td>0.42</td>\n",
       "    </tr>\n",
       "    <tr>\n",
       "      <th>17</th>\n",
       "      <td>1999</td>\n",
       "      <td>0.42</td>\n",
       "    </tr>\n",
       "    <tr>\n",
       "      <th>18</th>\n",
       "      <td>1998</td>\n",
       "      <td>0.64</td>\n",
       "    </tr>\n",
       "    <tr>\n",
       "      <th>19</th>\n",
       "      <td>1997</td>\n",
       "      <td>0.48</td>\n",
       "    </tr>\n",
       "    <tr>\n",
       "      <th>20</th>\n",
       "      <td>1996</td>\n",
       "      <td>0.35</td>\n",
       "    </tr>\n",
       "    <tr>\n",
       "      <th>21</th>\n",
       "      <td>1995</td>\n",
       "      <td>0.46</td>\n",
       "    </tr>\n",
       "    <tr>\n",
       "      <th>22</th>\n",
       "      <td>1994</td>\n",
       "      <td>0.32</td>\n",
       "    </tr>\n",
       "    <tr>\n",
       "      <th>23</th>\n",
       "      <td>1993</td>\n",
       "      <td>0.24</td>\n",
       "    </tr>\n",
       "    <tr>\n",
       "      <th>24</th>\n",
       "      <td>1992</td>\n",
       "      <td>0.23</td>\n",
       "    </tr>\n",
       "    <tr>\n",
       "      <th>25</th>\n",
       "      <td>1991</td>\n",
       "      <td>0.43</td>\n",
       "    </tr>\n",
       "    <tr>\n",
       "      <th>26</th>\n",
       "      <td>1990</td>\n",
       "      <td>0.44</td>\n",
       "    </tr>\n",
       "    <tr>\n",
       "      <th>27</th>\n",
       "      <td>1989</td>\n",
       "      <td>0.29</td>\n",
       "    </tr>\n",
       "    <tr>\n",
       "      <th>28</th>\n",
       "      <td>1988</td>\n",
       "      <td>0.41</td>\n",
       "    </tr>\n",
       "    <tr>\n",
       "      <th>29</th>\n",
       "      <td>1987</td>\n",
       "      <td>0.33</td>\n",
       "    </tr>\n",
       "    <tr>\n",
       "      <th>30</th>\n",
       "      <td>1986</td>\n",
       "      <td>0.19</td>\n",
       "    </tr>\n",
       "    <tr>\n",
       "      <th>31</th>\n",
       "      <td>1985</td>\n",
       "      <td>0.12</td>\n",
       "    </tr>\n",
       "    <tr>\n",
       "      <th>32</th>\n",
       "      <td>1984</td>\n",
       "      <td>0.15</td>\n",
       "    </tr>\n",
       "    <tr>\n",
       "      <th>33</th>\n",
       "      <td>1983</td>\n",
       "      <td>0.30</td>\n",
       "    </tr>\n",
       "    <tr>\n",
       "      <th>34</th>\n",
       "      <td>1982</td>\n",
       "      <td>0.13</td>\n",
       "    </tr>\n",
       "    <tr>\n",
       "      <th>35</th>\n",
       "      <td>1981</td>\n",
       "      <td>0.33</td>\n",
       "    </tr>\n",
       "    <tr>\n",
       "      <th>36</th>\n",
       "      <td>1980</td>\n",
       "      <td>0.27</td>\n",
       "    </tr>\n",
       "    <tr>\n",
       "      <th>37</th>\n",
       "      <td>1979</td>\n",
       "      <td>0.17</td>\n",
       "    </tr>\n",
       "    <tr>\n",
       "      <th>38</th>\n",
       "      <td>1978</td>\n",
       "      <td>0.07</td>\n",
       "    </tr>\n",
       "    <tr>\n",
       "      <th>39</th>\n",
       "      <td>1977</td>\n",
       "      <td>0.18</td>\n",
       "    </tr>\n",
       "    <tr>\n",
       "      <th>40</th>\n",
       "      <td>1976</td>\n",
       "      <td>-0.11</td>\n",
       "    </tr>\n",
       "    <tr>\n",
       "      <th>41</th>\n",
       "      <td>1975</td>\n",
       "      <td>-0.02</td>\n",
       "    </tr>\n",
       "    <tr>\n",
       "      <th>42</th>\n",
       "      <td>1974</td>\n",
       "      <td>-0.07</td>\n",
       "    </tr>\n",
       "    <tr>\n",
       "      <th>43</th>\n",
       "      <td>1973</td>\n",
       "      <td>0.15</td>\n",
       "    </tr>\n",
       "    <tr>\n",
       "      <th>44</th>\n",
       "      <td>1972</td>\n",
       "      <td>0.01</td>\n",
       "    </tr>\n",
       "    <tr>\n",
       "      <th>45</th>\n",
       "      <td>1971</td>\n",
       "      <td>-0.09</td>\n",
       "    </tr>\n",
       "    <tr>\n",
       "      <th>46</th>\n",
       "      <td>1970</td>\n",
       "      <td>0.02</td>\n",
       "    </tr>\n",
       "    <tr>\n",
       "      <th>47</th>\n",
       "      <td>1969</td>\n",
       "      <td>0.07</td>\n",
       "    </tr>\n",
       "    <tr>\n",
       "      <th>48</th>\n",
       "      <td>1968</td>\n",
       "      <td>-0.07</td>\n",
       "    </tr>\n",
       "    <tr>\n",
       "      <th>49</th>\n",
       "      <td>1967</td>\n",
       "      <td>-0.02</td>\n",
       "    </tr>\n",
       "    <tr>\n",
       "      <th>50</th>\n",
       "      <td>1966</td>\n",
       "      <td>-0.05</td>\n",
       "    </tr>\n",
       "    <tr>\n",
       "      <th>51</th>\n",
       "      <td>1965</td>\n",
       "      <td>-0.10</td>\n",
       "    </tr>\n",
       "    <tr>\n",
       "      <th>52</th>\n",
       "      <td>1964</td>\n",
       "      <td>-0.20</td>\n",
       "    </tr>\n",
       "    <tr>\n",
       "      <th>53</th>\n",
       "      <td>1963</td>\n",
       "      <td>0.06</td>\n",
       "    </tr>\n",
       "    <tr>\n",
       "      <th>54</th>\n",
       "      <td>1962</td>\n",
       "      <td>0.03</td>\n",
       "    </tr>\n",
       "    <tr>\n",
       "      <th>55</th>\n",
       "      <td>1961</td>\n",
       "      <td>0.05</td>\n",
       "    </tr>\n",
       "  </tbody>\n",
       "</table>\n",
       "</div>"
      ],
      "text/plain": [
       "    Year  Mean\n",
       "0   2016  0.99\n",
       "1   2015  0.87\n",
       "2   2014  0.74\n",
       "3   2013  0.65\n",
       "4   2012  0.63\n",
       "5   2011  0.60\n",
       "6   2010  0.71\n",
       "7   2009  0.64\n",
       "8   2008  0.54\n",
       "9   2007  0.66\n",
       "10  2006  0.63\n",
       "11  2005  0.69\n",
       "12  2004  0.55\n",
       "13  2003  0.62\n",
       "14  2002  0.63\n",
       "15  2001  0.55\n",
       "16  2000  0.42\n",
       "17  1999  0.42\n",
       "18  1998  0.64\n",
       "19  1997  0.48\n",
       "20  1996  0.35\n",
       "21  1995  0.46\n",
       "22  1994  0.32\n",
       "23  1993  0.24\n",
       "24  1992  0.23\n",
       "25  1991  0.43\n",
       "26  1990  0.44\n",
       "27  1989  0.29\n",
       "28  1988  0.41\n",
       "29  1987  0.33\n",
       "30  1986  0.19\n",
       "31  1985  0.12\n",
       "32  1984  0.15\n",
       "33  1983  0.30\n",
       "34  1982  0.13\n",
       "35  1981  0.33\n",
       "36  1980  0.27\n",
       "37  1979  0.17\n",
       "38  1978  0.07\n",
       "39  1977  0.18\n",
       "40  1976 -0.11\n",
       "41  1975 -0.02\n",
       "42  1974 -0.07\n",
       "43  1973  0.15\n",
       "44  1972  0.01\n",
       "45  1971 -0.09\n",
       "46  1970  0.02\n",
       "47  1969  0.07\n",
       "48  1968 -0.07\n",
       "49  1967 -0.02\n",
       "50  1966 -0.05\n",
       "51  1965 -0.10\n",
       "52  1964 -0.20\n",
       "53  1963  0.06\n",
       "54  1962  0.03\n",
       "55  1961  0.05"
      ]
     },
     "execution_count": 62,
     "metadata": {},
     "output_type": "execute_result"
    }
   ],
   "source": [
    "data_global_temp_new"
   ]
  },
  {
   "cell_type": "code",
   "execution_count": 88,
   "id": "c487f965",
   "metadata": {},
   "outputs": [],
   "source": [
    " yields_and_mean = pd.merge(data_global_temp_new, data_rice)\n"
   ]
  },
  {
   "cell_type": "code",
   "execution_count": 89,
   "id": "1c13b2df",
   "metadata": {},
   "outputs": [
    {
     "data": {
      "text/html": [
       "<div>\n",
       "<style scoped>\n",
       "    .dataframe tbody tr th:only-of-type {\n",
       "        vertical-align: middle;\n",
       "    }\n",
       "\n",
       "    .dataframe tbody tr th {\n",
       "        vertical-align: top;\n",
       "    }\n",
       "\n",
       "    .dataframe thead th {\n",
       "        text-align: right;\n",
       "    }\n",
       "</style>\n",
       "<table border=\"1\" class=\"dataframe\">\n",
       "  <thead>\n",
       "    <tr style=\"text-align: right;\">\n",
       "      <th></th>\n",
       "      <th>Year</th>\n",
       "      <th>Mean</th>\n",
       "      <th>Entity</th>\n",
       "      <th>Code</th>\n",
       "      <th>Yield</th>\n",
       "    </tr>\n",
       "  </thead>\n",
       "  <tbody>\n",
       "    <tr>\n",
       "      <th>0</th>\n",
       "      <td>2016</td>\n",
       "      <td>0.99</td>\n",
       "      <td>Afghanistan</td>\n",
       "      <td>AFG</td>\n",
       "      <td>1.9394</td>\n",
       "    </tr>\n",
       "    <tr>\n",
       "      <th>1</th>\n",
       "      <td>2016</td>\n",
       "      <td>0.99</td>\n",
       "      <td>Africa</td>\n",
       "      <td></td>\n",
       "      <td>1.4073</td>\n",
       "    </tr>\n",
       "    <tr>\n",
       "      <th>2</th>\n",
       "      <td>2016</td>\n",
       "      <td>0.99</td>\n",
       "      <td>Albania</td>\n",
       "      <td>ALB</td>\n",
       "      <td>4.7164</td>\n",
       "    </tr>\n",
       "    <tr>\n",
       "      <th>3</th>\n",
       "      <td>2016</td>\n",
       "      <td>0.99</td>\n",
       "      <td>Algeria</td>\n",
       "      <td>DZA</td>\n",
       "      <td>1.0203</td>\n",
       "    </tr>\n",
       "    <tr>\n",
       "      <th>4</th>\n",
       "      <td>2016</td>\n",
       "      <td>0.99</td>\n",
       "      <td>Americas</td>\n",
       "      <td></td>\n",
       "      <td>6.1541</td>\n",
       "    </tr>\n",
       "    <tr>\n",
       "      <th>...</th>\n",
       "      <td>...</td>\n",
       "      <td>...</td>\n",
       "      <td>...</td>\n",
       "      <td>...</td>\n",
       "      <td>...</td>\n",
       "    </tr>\n",
       "    <tr>\n",
       "      <th>11346</th>\n",
       "      <td>1961</td>\n",
       "      <td>0.05</td>\n",
       "      <td>World</td>\n",
       "      <td>OWID_WRL</td>\n",
       "      <td>1.2424</td>\n",
       "    </tr>\n",
       "    <tr>\n",
       "      <th>11347</th>\n",
       "      <td>1961</td>\n",
       "      <td>0.05</td>\n",
       "      <td>Yemen</td>\n",
       "      <td>YEM</td>\n",
       "      <td>0.7825</td>\n",
       "    </tr>\n",
       "    <tr>\n",
       "      <th>11348</th>\n",
       "      <td>1961</td>\n",
       "      <td>0.05</td>\n",
       "      <td>Yugoslavia</td>\n",
       "      <td>OWID_YGS</td>\n",
       "      <td>1.6540</td>\n",
       "    </tr>\n",
       "    <tr>\n",
       "      <th>11349</th>\n",
       "      <td>1961</td>\n",
       "      <td>0.05</td>\n",
       "      <td>Zambia</td>\n",
       "      <td>ZMB</td>\n",
       "      <td>0.8222</td>\n",
       "    </tr>\n",
       "    <tr>\n",
       "      <th>11350</th>\n",
       "      <td>1961</td>\n",
       "      <td>0.05</td>\n",
       "      <td>Zimbabwe</td>\n",
       "      <td>ZWE</td>\n",
       "      <td>0.9195</td>\n",
       "    </tr>\n",
       "  </tbody>\n",
       "</table>\n",
       "<p>11351 rows × 5 columns</p>\n",
       "</div>"
      ],
      "text/plain": [
       "       Year  Mean       Entity      Code   Yield\n",
       "0      2016  0.99  Afghanistan       AFG  1.9394\n",
       "1      2016  0.99       Africa            1.4073\n",
       "2      2016  0.99      Albania       ALB  4.7164\n",
       "3      2016  0.99      Algeria       DZA  1.0203\n",
       "4      2016  0.99     Americas            6.1541\n",
       "...     ...   ...          ...       ...     ...\n",
       "11346  1961  0.05        World  OWID_WRL  1.2424\n",
       "11347  1961  0.05        Yemen       YEM  0.7825\n",
       "11348  1961  0.05   Yugoslavia  OWID_YGS  1.6540\n",
       "11349  1961  0.05       Zambia       ZMB  0.8222\n",
       "11350  1961  0.05     Zimbabwe       ZWE  0.9195\n",
       "\n",
       "[11351 rows x 5 columns]"
      ]
     },
     "execution_count": 89,
     "metadata": {},
     "output_type": "execute_result"
    }
   ],
   "source": [
    "yields_and_mean"
   ]
  },
  {
   "cell_type": "code",
   "execution_count": 90,
   "id": "0440bbef",
   "metadata": {},
   "outputs": [],
   "source": [
    "yam = yields_and_mean.to_numpy()"
   ]
  },
  {
   "cell_type": "code",
   "execution_count": 169,
   "id": "c0dfa067",
   "metadata": {},
   "outputs": [
    {
     "name": "stdout",
     "output_type": "stream",
     "text": [
      "[[2016 0.99 'Afghanistan' 'AFG' 1.9394]\n",
      " [2016 0.99 'Africa' '' 1.4073]\n",
      " [2016 0.99 'Albania' 'ALB' 4.7164]\n",
      " ...\n",
      " [1961 0.05 'Yugoslavia' 'OWID_YGS' 1.654]\n",
      " [1961 0.05 'Zambia' 'ZMB' 0.8222]\n",
      " [1961 0.05 'Zimbabwe' 'ZWE' 0.9195]]\n"
     ]
    }
   ],
   "source": [
    "print(yam)"
   ]
  },
  {
   "cell_type": "code",
   "execution_count": 154,
   "id": "3eb76fd4",
   "metadata": {},
   "outputs": [],
   "source": [
    "x_yam = yields_and_mean.iloc[:,0:3]\n",
    "first_column = x_yam.pop('Entity')\n",
    "x_yam.insert(0, 'Entity', first_column)"
   ]
  },
  {
   "cell_type": "code",
   "execution_count": 155,
   "id": "88703bfc",
   "metadata": {},
   "outputs": [],
   "source": [
    "y_yam = yields_and_mean.iloc[:,-1]"
   ]
  },
  {
   "cell_type": "code",
   "execution_count": 156,
   "id": "b8102529",
   "metadata": {},
   "outputs": [],
   "source": [
    "x_yam = x_yam.to_numpy()\n",
    "y_yam = y_yam.to_numpy()"
   ]
  },
  {
   "cell_type": "code",
   "execution_count": 157,
   "id": "6b186040",
   "metadata": {},
   "outputs": [
    {
     "name": "stdout",
     "output_type": "stream",
     "text": [
      "[['Afghanistan' 2016 0.99]\n",
      " ['Africa' 2016 0.99]\n",
      " ['Albania' 2016 0.99]\n",
      " ...\n",
      " ['Yugoslavia' 1961 0.05]\n",
      " ['Zambia' 1961 0.05]\n",
      " ['Zimbabwe' 1961 0.05]]\n"
     ]
    }
   ],
   "source": [
    "print(x_yam)"
   ]
  },
  {
   "cell_type": "code",
   "execution_count": 158,
   "id": "823f6aec",
   "metadata": {},
   "outputs": [
    {
     "name": "stdout",
     "output_type": "stream",
     "text": [
      "[1.94 1.41 4.72 ... 1.65 0.82 0.92]\n"
     ]
    }
   ],
   "source": [
    "print(y_yam)"
   ]
  },
  {
   "cell_type": "code",
   "execution_count": 159,
   "id": "934ad17d",
   "metadata": {},
   "outputs": [],
   "source": [
    "from sklearn.compose import ColumnTransformer\n",
    "from sklearn.preprocessing import OneHotEncoder\n",
    "ct = ColumnTransformer(transformers=[('encoder', OneHotEncoder(sparse = False), [0])], remainder='passthrough')\n",
    "x_yam = (ct.fit_transform(x_yam))"
   ]
  },
  {
   "cell_type": "code",
   "execution_count": 160,
   "id": "81e3be88",
   "metadata": {},
   "outputs": [
    {
     "name": "stdout",
     "output_type": "stream",
     "text": [
      "[[1.0 0.0 0.0 ... 0.0 2016 0.99]\n",
      " [0.0 1.0 0.0 ... 0.0 2016 0.99]\n",
      " [0.0 0.0 1.0 ... 0.0 2016 0.99]\n",
      " ...\n",
      " [0.0 0.0 0.0 ... 0.0 1961 0.05]\n",
      " [0.0 0.0 0.0 ... 0.0 1961 0.05]\n",
      " [0.0 0.0 0.0 ... 1.0 1961 0.05]]\n"
     ]
    }
   ],
   "source": [
    "print(x_yam)"
   ]
  },
  {
   "cell_type": "markdown",
   "id": "0aa86f9e",
   "metadata": {},
   "source": [
    "## Test And Train Sets"
   ]
  },
  {
   "cell_type": "code",
   "execution_count": 161,
   "id": "04412daa",
   "metadata": {},
   "outputs": [],
   "source": [
    "from sklearn.model_selection import train_test_split\n",
    "x_train, x_test, y_train, y_test = train_test_split(x_yam, y_yam, test_size = 0.2, random_state = 0)"
   ]
  },
  {
   "cell_type": "code",
   "execution_count": 162,
   "id": "6fcb4c12",
   "metadata": {},
   "outputs": [
    {
     "data": {
      "text/plain": [
       "array([[0.0, 0.0, 0.0, ..., 0.0, 2011, 0.6],\n",
       "       [0.0, 0.0, 0.0, ..., 0.0, 1988, 0.41],\n",
       "       [0.0, 0.0, 0.0, ..., 0.0, 1983, 0.3],\n",
       "       ...,\n",
       "       [0.0, 0.0, 0.0, ..., 0.0, 1968, -0.07],\n",
       "       [0.0, 0.0, 0.0, ..., 0.0, 1963, 0.06],\n",
       "       [0.0, 0.0, 0.0, ..., 0.0, 2004, 0.55]], dtype=object)"
      ]
     },
     "execution_count": 162,
     "metadata": {},
     "output_type": "execute_result"
    }
   ],
   "source": [
    "x_train"
   ]
  },
  {
   "cell_type": "code",
   "execution_count": 163,
   "id": "3f3c0bdb",
   "metadata": {},
   "outputs": [
    {
     "data": {
      "text/plain": [
       "array([4.4 , 1.24, 2.83, ..., 3.34, 0.62, 3.07])"
      ]
     },
     "execution_count": 163,
     "metadata": {},
     "output_type": "execute_result"
    }
   ],
   "source": [
    "y_train"
   ]
  },
  {
   "cell_type": "markdown",
   "id": "cc4d7742",
   "metadata": {},
   "source": [
    "## Multiple Linear Regression"
   ]
  },
  {
   "cell_type": "code",
   "execution_count": 164,
   "id": "f12a614d",
   "metadata": {},
   "outputs": [
    {
     "data": {
      "text/plain": [
       "LinearRegression()"
      ]
     },
     "execution_count": 164,
     "metadata": {},
     "output_type": "execute_result"
    }
   ],
   "source": [
    "from sklearn.linear_model import LinearRegression\n",
    "regressor = LinearRegression()\n",
    "regressor.fit(x_train, y_train)"
   ]
  },
  {
   "cell_type": "code",
   "execution_count": 165,
   "id": "13887a40",
   "metadata": {},
   "outputs": [
    {
     "name": "stdout",
     "output_type": "stream",
     "text": [
      "[[2.85 2.59]\n",
      " [1.37 0.66]\n",
      " [1.81 1.7 ]\n",
      " ...\n",
      " [1.75 1.38]\n",
      " [4.55 5.08]\n",
      " [1.68 1.23]]\n"
     ]
    }
   ],
   "source": [
    "y_pred = regressor.predict(x_test)\n",
    "np.set_printoptions(precision=2)\n",
    "print(np.concatenate((y_pred.reshape(len(y_pred),1), y_test.reshape(len(y_test),1)),1))"
   ]
  }
 ],
 "metadata": {
  "kernelspec": {
   "display_name": "Python 3",
   "language": "python",
   "name": "python3"
  },
  "language_info": {
   "codemirror_mode": {
    "name": "ipython",
    "version": 3
   },
   "file_extension": ".py",
   "mimetype": "text/x-python",
   "name": "python",
   "nbconvert_exporter": "python",
   "pygments_lexer": "ipython3",
   "version": "3.8.8"
  }
 },
 "nbformat": 4,
 "nbformat_minor": 5
}
